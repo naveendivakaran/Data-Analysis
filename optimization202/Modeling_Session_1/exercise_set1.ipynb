{
  "cells": [
    {
      "cell_type": "markdown",
      "metadata": {
        "id": "jPUjM_-hFSXj"
      },
      "source": [
        "# Exercise Set 1"
      ]
    },
    {
      "cell_type": "markdown",
      "metadata": {
        "id": "PRj5bi61FSXk"
      },
      "source": [
        "## Multiple Choice / True-False\n",
        "\n",
        "**Q1.** When dealing with numerical instability, which of the following is NOT a recommended approach?\n",
        "\n",
        "> a. Using well-scaled and precise data\n",
        "\n",
        "> b. Ensuring matrix coefficients are within 6 orders of magnitude\n",
        "\n",
        "> c. Increasing the Big M value as much as possible\n",
        "\n",
        "> d. Setting the NumericFocus parameter to prioritize stability\n",
        "\n",
        "**Q2.** Which of the following statements about MIP Gap is accurate?\n",
        "\n",
        "> a. A lower MIP Gap always leads to significant solution improvements\n",
        "\n",
        "> b. A higher MIP Gap can still yield a solution close to optimal, depending on the problem\n",
        "\n",
        "> c. Setting MIP Gap to zero is ideal for all real-world applications\n",
        "\n",
        "> d. MIP Gap only affects runtime but not solution quality\n",
        "\n",
        "**Q3.** Which of the following is a potential benefit of using the Big M method in an optimization model?\n",
        "\n",
        "> a. It helps establish conditional constraints based on binary variables\n",
        "\n",
        "> b. It eliminates the need for slack variables\n",
        "\n",
        "> c. It reduces the numerical range required for coefficients\n",
        "\n",
        "> d. It ensures the model is solved to exact optimality\n",
        "\n",
        "**Q4.** An optimization model can sometimes be infeasible in exact arithmetic but feasible within the solver’s tolerances.\n",
        "\n",
        "> True\n",
        "\n",
        "> False\n",
        "\n",
        "**Q5.** For which of the following application areas is non-linear optimization used in practice?\n",
        "\n",
        "> a. Finance\n",
        "\n",
        "> b. Utilities\n",
        "\n",
        "> c. Engineering\n",
        "\n",
        "> d. All of the above\n",
        "\n",
        "**Q6.** Which type of optimization problem could have local optimal solutions that are not globally optimal?\n",
        "\n",
        "> a. Linear programs\n",
        "\n",
        "> b. Convex Quadratic Programs\n",
        "\n",
        "> c. Non-convex Quadratic Programs\n",
        "\n",
        "> d. None of the above\n",
        "\n",
        "**Q7.** Which of the following constraints defines a convex feasible region?\n",
        "\n",
        "> a. $y \\geq x^2$\n",
        "\n",
        "> b. $y \\leq x^2$\n",
        "\n",
        "> c. $y = x^2$\n",
        "\n",
        "> d. $y \\neq x^2$"
      ]
    },
    {
      "cell_type": "markdown",
      "metadata": {
        "id": "lDFopMDUFSXk"
      },
      "source": [
        "## Simple modeling / coding\n",
        "\n",
        "**Q8.** Show these constraints are either compatible (find a feasible solution) or incompatible (prove a contradiction) algebraically:\n",
        "> Part 1.\n",
        "\n",
        "\\begin{align*}\n",
        "x + y + z &\\ge 3   \\quad &(1)    \\\\\n",
        "2x + 3y - z &\\le 4   \\quad &(2)  \\\\\n",
        "x, y, z &\\ge 0\n",
        "\\end{align*}\n",
        "\n",
        "> Part 2.\n",
        "\n",
        "\\begin{align*}\n",
        "x_1 + x_2 + x_3 &= 6 \\quad &(1)      \\\\\n",
        "3x_1 + 2x_2 + x_3 &\\ge 20  \\quad &(2)\\\\\n",
        "x_1, x_2, x_3, &\\ge 0\n",
        "\\end{align*}\n",
        "\n",
        "**Q9.** Translate the following into constraints using binary variables for deciding to invest in three stocks. Then determine if they are compatible as above.\n",
        "\n",
        "- I will invest in exactly two of the three stocks.\n",
        "- If I invest in stock A, then I will invest in stock B.\n",
        "- If I invest in stock B, then I will invest in stock C."
      ]
    },
    {
      "cell_type": "markdown",
      "metadata": {
        "id": "6OmFxtdNFSXl"
      },
      "source": [
        "## Back to the widget production problem\n",
        "Use the code below as the base model for this problem."
      ]
    },
    {
      "cell_type": "code",
      "execution_count": 1,
      "metadata": {
        "id": "7TmyWFr2FSXl",
        "outputId": "a0b61a45-223c-4396-abf3-d2d3ab057705",
        "colab": {
          "base_uri": "https://localhost:8080/"
        }
      },
      "outputs": [
        {
          "output_type": "stream",
          "name": "stdout",
          "text": [
            "Collecting gurobipy\n",
            "  Downloading gurobipy-12.0.0-cp310-cp310-manylinux2014_x86_64.manylinux_2_17_x86_64.whl.metadata (15 kB)\n",
            "Downloading gurobipy-12.0.0-cp310-cp310-manylinux2014_x86_64.manylinux_2_17_x86_64.whl (14.4 MB)\n",
            "\u001b[2K   \u001b[90m━━━━━━━━━━━━━━━━━━━━━━━━━━━━━━━━━━━━━━━━\u001b[0m \u001b[32m14.4/14.4 MB\u001b[0m \u001b[31m37.3 MB/s\u001b[0m eta \u001b[36m0:00:00\u001b[0m\n",
            "\u001b[?25hInstalling collected packages: gurobipy\n",
            "Successfully installed gurobipy-12.0.0\n"
          ]
        }
      ],
      "source": [
        "# Install any packages\n",
        "%pip install gurobipy\n",
        "\n",
        "# Import packages\n",
        "import pandas as pd\n",
        "import gurobipy as gp\n",
        "from gurobipy import GRB"
      ]
    },
    {
      "cell_type": "code",
      "execution_count": 2,
      "metadata": {
        "id": "f80IjHsPFSXl"
      },
      "outputs": [],
      "source": [
        "# read in transportation cost data\n",
        "path = 'https://raw.githubusercontent.com/Gurobi/modeling-examples/master/optimization101/Modeling_Session_1/'\n",
        "transp_cost = pd.read_csv(path + 'cost.csv')\n",
        "\n",
        "# get production and distribution locations from data frame\n",
        "production = list(transp_cost['production'].unique())\n",
        "distribution = list(transp_cost['distribution'].unique())\n",
        "transp_cost = transp_cost.set_index(['production','distribution']).squeeze()\n",
        "\n",
        "max_prod = pd.Series([180,200,140,80,180], index = production, name = \"max_production\")\n",
        "n_demand = pd.Series([89,95,121,101,116,181], index = distribution, name = \"demand\")\n",
        "# the min production is a fraction of the max\n",
        "frac = 0.75\n",
        "C = 30"
      ]
    },
    {
      "cell_type": "code",
      "execution_count": 3,
      "metadata": {
        "id": "0Wvz3lHHFSXl",
        "outputId": "3909010b-aced-434a-f2d5-be917074a3b1",
        "colab": {
          "base_uri": "https://localhost:8080/",
          "height": 366
        }
      },
      "outputs": [
        {
          "output_type": "stream",
          "name": "stdout",
          "text": [
            "Restricted license - for non-production use only - expires 2026-11-23\n",
            "The original model had a total cost of 1748.42\n"
          ]
        },
        {
          "output_type": "execute_result",
          "data": {
            "text/plain": [
              "                          cost  shipment\n",
              "production  distribution                \n",
              "Baltimore   Nashville     5.96      30.0\n",
              "            Richmond      1.96     116.0\n",
              "Cleveland   Columbia      2.43      89.0\n",
              "            Indianapolis  2.37      95.0\n",
              "Little Rock St. Louis     2.92     140.0\n",
              "Birmingham  Nashville     1.53      71.0\n",
              "Charleston  Lexington     1.61     121.0\n",
              "            St. Louis     4.60      41.0"
            ],
            "text/html": [
              "\n",
              "  <div id=\"df-6b78e1e9-8b63-4240-9d79-b3a2f115352b\" class=\"colab-df-container\">\n",
              "    <div>\n",
              "<style scoped>\n",
              "    .dataframe tbody tr th:only-of-type {\n",
              "        vertical-align: middle;\n",
              "    }\n",
              "\n",
              "    .dataframe tbody tr th {\n",
              "        vertical-align: top;\n",
              "    }\n",
              "\n",
              "    .dataframe thead th {\n",
              "        text-align: right;\n",
              "    }\n",
              "</style>\n",
              "<table border=\"1\" class=\"dataframe\">\n",
              "  <thead>\n",
              "    <tr style=\"text-align: right;\">\n",
              "      <th></th>\n",
              "      <th></th>\n",
              "      <th>cost</th>\n",
              "      <th>shipment</th>\n",
              "    </tr>\n",
              "    <tr>\n",
              "      <th>production</th>\n",
              "      <th>distribution</th>\n",
              "      <th></th>\n",
              "      <th></th>\n",
              "    </tr>\n",
              "  </thead>\n",
              "  <tbody>\n",
              "    <tr>\n",
              "      <th rowspan=\"2\" valign=\"top\">Baltimore</th>\n",
              "      <th>Nashville</th>\n",
              "      <td>5.96</td>\n",
              "      <td>30.0</td>\n",
              "    </tr>\n",
              "    <tr>\n",
              "      <th>Richmond</th>\n",
              "      <td>1.96</td>\n",
              "      <td>116.0</td>\n",
              "    </tr>\n",
              "    <tr>\n",
              "      <th rowspan=\"2\" valign=\"top\">Cleveland</th>\n",
              "      <th>Columbia</th>\n",
              "      <td>2.43</td>\n",
              "      <td>89.0</td>\n",
              "    </tr>\n",
              "    <tr>\n",
              "      <th>Indianapolis</th>\n",
              "      <td>2.37</td>\n",
              "      <td>95.0</td>\n",
              "    </tr>\n",
              "    <tr>\n",
              "      <th>Little Rock</th>\n",
              "      <th>St. Louis</th>\n",
              "      <td>2.92</td>\n",
              "      <td>140.0</td>\n",
              "    </tr>\n",
              "    <tr>\n",
              "      <th>Birmingham</th>\n",
              "      <th>Nashville</th>\n",
              "      <td>1.53</td>\n",
              "      <td>71.0</td>\n",
              "    </tr>\n",
              "    <tr>\n",
              "      <th rowspan=\"2\" valign=\"top\">Charleston</th>\n",
              "      <th>Lexington</th>\n",
              "      <td>1.61</td>\n",
              "      <td>121.0</td>\n",
              "    </tr>\n",
              "    <tr>\n",
              "      <th>St. Louis</th>\n",
              "      <td>4.60</td>\n",
              "      <td>41.0</td>\n",
              "    </tr>\n",
              "  </tbody>\n",
              "</table>\n",
              "</div>\n",
              "    <div class=\"colab-df-buttons\">\n",
              "\n",
              "  <div class=\"colab-df-container\">\n",
              "    <button class=\"colab-df-convert\" onclick=\"convertToInteractive('df-6b78e1e9-8b63-4240-9d79-b3a2f115352b')\"\n",
              "            title=\"Convert this dataframe to an interactive table.\"\n",
              "            style=\"display:none;\">\n",
              "\n",
              "  <svg xmlns=\"http://www.w3.org/2000/svg\" height=\"24px\" viewBox=\"0 -960 960 960\">\n",
              "    <path d=\"M120-120v-720h720v720H120Zm60-500h600v-160H180v160Zm220 220h160v-160H400v160Zm0 220h160v-160H400v160ZM180-400h160v-160H180v160Zm440 0h160v-160H620v160ZM180-180h160v-160H180v160Zm440 0h160v-160H620v160Z\"/>\n",
              "  </svg>\n",
              "    </button>\n",
              "\n",
              "  <style>\n",
              "    .colab-df-container {\n",
              "      display:flex;\n",
              "      gap: 12px;\n",
              "    }\n",
              "\n",
              "    .colab-df-convert {\n",
              "      background-color: #E8F0FE;\n",
              "      border: none;\n",
              "      border-radius: 50%;\n",
              "      cursor: pointer;\n",
              "      display: none;\n",
              "      fill: #1967D2;\n",
              "      height: 32px;\n",
              "      padding: 0 0 0 0;\n",
              "      width: 32px;\n",
              "    }\n",
              "\n",
              "    .colab-df-convert:hover {\n",
              "      background-color: #E2EBFA;\n",
              "      box-shadow: 0px 1px 2px rgba(60, 64, 67, 0.3), 0px 1px 3px 1px rgba(60, 64, 67, 0.15);\n",
              "      fill: #174EA6;\n",
              "    }\n",
              "\n",
              "    .colab-df-buttons div {\n",
              "      margin-bottom: 4px;\n",
              "    }\n",
              "\n",
              "    [theme=dark] .colab-df-convert {\n",
              "      background-color: #3B4455;\n",
              "      fill: #D2E3FC;\n",
              "    }\n",
              "\n",
              "    [theme=dark] .colab-df-convert:hover {\n",
              "      background-color: #434B5C;\n",
              "      box-shadow: 0px 1px 3px 1px rgba(0, 0, 0, 0.15);\n",
              "      filter: drop-shadow(0px 1px 2px rgba(0, 0, 0, 0.3));\n",
              "      fill: #FFFFFF;\n",
              "    }\n",
              "  </style>\n",
              "\n",
              "    <script>\n",
              "      const buttonEl =\n",
              "        document.querySelector('#df-6b78e1e9-8b63-4240-9d79-b3a2f115352b button.colab-df-convert');\n",
              "      buttonEl.style.display =\n",
              "        google.colab.kernel.accessAllowed ? 'block' : 'none';\n",
              "\n",
              "      async function convertToInteractive(key) {\n",
              "        const element = document.querySelector('#df-6b78e1e9-8b63-4240-9d79-b3a2f115352b');\n",
              "        const dataTable =\n",
              "          await google.colab.kernel.invokeFunction('convertToInteractive',\n",
              "                                                    [key], {});\n",
              "        if (!dataTable) return;\n",
              "\n",
              "        const docLinkHtml = 'Like what you see? Visit the ' +\n",
              "          '<a target=\"_blank\" href=https://colab.research.google.com/notebooks/data_table.ipynb>data table notebook</a>'\n",
              "          + ' to learn more about interactive tables.';\n",
              "        element.innerHTML = '';\n",
              "        dataTable['output_type'] = 'display_data';\n",
              "        await google.colab.output.renderOutput(dataTable, element);\n",
              "        const docLink = document.createElement('div');\n",
              "        docLink.innerHTML = docLinkHtml;\n",
              "        element.appendChild(docLink);\n",
              "      }\n",
              "    </script>\n",
              "  </div>\n",
              "\n",
              "\n",
              "<div id=\"df-21c61091-c09e-4835-bf87-1d3249e0a7c0\">\n",
              "  <button class=\"colab-df-quickchart\" onclick=\"quickchart('df-21c61091-c09e-4835-bf87-1d3249e0a7c0')\"\n",
              "            title=\"Suggest charts\"\n",
              "            style=\"display:none;\">\n",
              "\n",
              "<svg xmlns=\"http://www.w3.org/2000/svg\" height=\"24px\"viewBox=\"0 0 24 24\"\n",
              "     width=\"24px\">\n",
              "    <g>\n",
              "        <path d=\"M19 3H5c-1.1 0-2 .9-2 2v14c0 1.1.9 2 2 2h14c1.1 0 2-.9 2-2V5c0-1.1-.9-2-2-2zM9 17H7v-7h2v7zm4 0h-2V7h2v10zm4 0h-2v-4h2v4z\"/>\n",
              "    </g>\n",
              "</svg>\n",
              "  </button>\n",
              "\n",
              "<style>\n",
              "  .colab-df-quickchart {\n",
              "      --bg-color: #E8F0FE;\n",
              "      --fill-color: #1967D2;\n",
              "      --hover-bg-color: #E2EBFA;\n",
              "      --hover-fill-color: #174EA6;\n",
              "      --disabled-fill-color: #AAA;\n",
              "      --disabled-bg-color: #DDD;\n",
              "  }\n",
              "\n",
              "  [theme=dark] .colab-df-quickchart {\n",
              "      --bg-color: #3B4455;\n",
              "      --fill-color: #D2E3FC;\n",
              "      --hover-bg-color: #434B5C;\n",
              "      --hover-fill-color: #FFFFFF;\n",
              "      --disabled-bg-color: #3B4455;\n",
              "      --disabled-fill-color: #666;\n",
              "  }\n",
              "\n",
              "  .colab-df-quickchart {\n",
              "    background-color: var(--bg-color);\n",
              "    border: none;\n",
              "    border-radius: 50%;\n",
              "    cursor: pointer;\n",
              "    display: none;\n",
              "    fill: var(--fill-color);\n",
              "    height: 32px;\n",
              "    padding: 0;\n",
              "    width: 32px;\n",
              "  }\n",
              "\n",
              "  .colab-df-quickchart:hover {\n",
              "    background-color: var(--hover-bg-color);\n",
              "    box-shadow: 0 1px 2px rgba(60, 64, 67, 0.3), 0 1px 3px 1px rgba(60, 64, 67, 0.15);\n",
              "    fill: var(--button-hover-fill-color);\n",
              "  }\n",
              "\n",
              "  .colab-df-quickchart-complete:disabled,\n",
              "  .colab-df-quickchart-complete:disabled:hover {\n",
              "    background-color: var(--disabled-bg-color);\n",
              "    fill: var(--disabled-fill-color);\n",
              "    box-shadow: none;\n",
              "  }\n",
              "\n",
              "  .colab-df-spinner {\n",
              "    border: 2px solid var(--fill-color);\n",
              "    border-color: transparent;\n",
              "    border-bottom-color: var(--fill-color);\n",
              "    animation:\n",
              "      spin 1s steps(1) infinite;\n",
              "  }\n",
              "\n",
              "  @keyframes spin {\n",
              "    0% {\n",
              "      border-color: transparent;\n",
              "      border-bottom-color: var(--fill-color);\n",
              "      border-left-color: var(--fill-color);\n",
              "    }\n",
              "    20% {\n",
              "      border-color: transparent;\n",
              "      border-left-color: var(--fill-color);\n",
              "      border-top-color: var(--fill-color);\n",
              "    }\n",
              "    30% {\n",
              "      border-color: transparent;\n",
              "      border-left-color: var(--fill-color);\n",
              "      border-top-color: var(--fill-color);\n",
              "      border-right-color: var(--fill-color);\n",
              "    }\n",
              "    40% {\n",
              "      border-color: transparent;\n",
              "      border-right-color: var(--fill-color);\n",
              "      border-top-color: var(--fill-color);\n",
              "    }\n",
              "    60% {\n",
              "      border-color: transparent;\n",
              "      border-right-color: var(--fill-color);\n",
              "    }\n",
              "    80% {\n",
              "      border-color: transparent;\n",
              "      border-right-color: var(--fill-color);\n",
              "      border-bottom-color: var(--fill-color);\n",
              "    }\n",
              "    90% {\n",
              "      border-color: transparent;\n",
              "      border-bottom-color: var(--fill-color);\n",
              "    }\n",
              "  }\n",
              "</style>\n",
              "\n",
              "  <script>\n",
              "    async function quickchart(key) {\n",
              "      const quickchartButtonEl =\n",
              "        document.querySelector('#' + key + ' button');\n",
              "      quickchartButtonEl.disabled = true;  // To prevent multiple clicks.\n",
              "      quickchartButtonEl.classList.add('colab-df-spinner');\n",
              "      try {\n",
              "        const charts = await google.colab.kernel.invokeFunction(\n",
              "            'suggestCharts', [key], {});\n",
              "      } catch (error) {\n",
              "        console.error('Error during call to suggestCharts:', error);\n",
              "      }\n",
              "      quickchartButtonEl.classList.remove('colab-df-spinner');\n",
              "      quickchartButtonEl.classList.add('colab-df-quickchart-complete');\n",
              "    }\n",
              "    (() => {\n",
              "      let quickchartButtonEl =\n",
              "        document.querySelector('#df-21c61091-c09e-4835-bf87-1d3249e0a7c0 button');\n",
              "      quickchartButtonEl.style.display =\n",
              "        google.colab.kernel.accessAllowed ? 'block' : 'none';\n",
              "    })();\n",
              "  </script>\n",
              "</div>\n",
              "\n",
              "    </div>\n",
              "  </div>\n"
            ],
            "application/vnd.google.colaboratory.intrinsic+json": {
              "type": "dataframe",
              "summary": "{\n  \"name\": \"sol[sol\",\n  \"rows\": 8,\n  \"fields\": [\n    {\n      \"column\": \"cost\",\n      \"properties\": {\n        \"dtype\": \"number\",\n        \"std\": 1.5664495796910558,\n        \"min\": 1.53,\n        \"max\": 5.96,\n        \"num_unique_values\": 8,\n        \"samples\": [\n          1.96,\n          1.53,\n          5.96\n        ],\n        \"semantic_type\": \"\",\n        \"description\": \"\"\n      }\n    },\n    {\n      \"column\": \"shipment\",\n      \"properties\": {\n        \"dtype\": \"number\",\n        \"std\": 38.709310434128305,\n        \"min\": 30.0,\n        \"max\": 140.0,\n        \"num_unique_values\": 8,\n        \"samples\": [\n          116.0,\n          71.0,\n          30.0\n        ],\n        \"semantic_type\": \"\",\n        \"description\": \"\"\n      }\n    }\n  ]\n}"
            }
          },
          "metadata": {},
          "execution_count": 3
        }
      ],
      "source": [
        "# gurobipy code for model\n",
        "m = gp.Model('widgets')\n",
        "m.setParam('OutputFlag',0)\n",
        "\n",
        "# decision variables - reminder that we ended on x being a semi-continuous variable type\n",
        "x = m.addVars(production, distribution, vtype=GRB.SEMICONT, lb = C, name = 'prod_ship')\n",
        "\n",
        "# constraints\n",
        "can_produce = m.addConstrs((gp.quicksum(x[p,d] for d in distribution) <= max_prod[p] for p in production), name = 'can_produce')\n",
        "must_produce = m.addConstrs((gp.quicksum(x[p,d] for d in distribution) >= frac*max_prod[p] for p in production), name = 'must_produce')\n",
        "meet_demand = m.addConstrs(x.sum('*', d) >= n_demand[d] for d in distribution)\n",
        "\n",
        "#objective\n",
        "m.setObjective(gp.quicksum(transp_cost[p,d]*x[p,d] for p in production for d in distribution), GRB.MINIMIZE)\n",
        "\n",
        "m.optimize()\n",
        "\n",
        "x_values = pd.Series(m.getAttr('X', x), name = \"shipment\", index = transp_cost.index)\n",
        "sol = pd.concat([transp_cost, x_values], axis=1)\n",
        "\n",
        "print(f\"The original model had a total cost of {round(m.ObjVal,2)}\")\n",
        "sol[sol.shipment > 0]"
      ]
    },
    {
      "cell_type": "markdown",
      "metadata": {
        "id": "BSpsybnMFSXm"
      },
      "source": [
        "## Nonlinear optimization modeling"
      ]
    },
    {
      "cell_type": "markdown",
      "metadata": {
        "id": "ZR3HpSdEFSXm"
      },
      "source": [
        "### Quadratic expression\n",
        "\n",
        "In order to produce more widgets, production facilities must run their machines at faster speeds. This consumes more energy and produces more waste at a level that grows with each widget produced. Running their machines costs a production facility $0.01 times the square of the number of widgets produced. Modify the objective function to include this additional production cost. Here is the some code to get you started - it includes the original transportation cost expression that you will be adding to:\n",
        "\n",
        "```python\n",
        "m.setObjective(gp.quicksum(transp_cost[p,d]*x[p,d] for p in production for d in distribution) + ..., GRB.MINIMIZE)\n",
        "```\n",
        "Solve the model with the updated objective and see how the cost has changed."
      ]
    },
    {
      "cell_type": "code",
      "source": [
        "2*2"
      ],
      "metadata": {
        "id": "a03MpQ8UGQsR",
        "outputId": "83abe981-e368-490f-db6a-19bcee86b988",
        "colab": {
          "base_uri": "https://localhost:8080/"
        }
      },
      "execution_count": 6,
      "outputs": [
        {
          "output_type": "execute_result",
          "data": {
            "text/plain": [
              "4"
            ]
          },
          "metadata": {},
          "execution_count": 6
        }
      ]
    },
    {
      "cell_type": "code",
      "execution_count": 26,
      "metadata": {
        "id": "E1jvnBmdFSXm",
        "outputId": "f4b26b95-ad34-4d7f-aca1-f3b5bd9c9d25",
        "colab": {
          "base_uri": "https://localhost:8080/"
        }
      },
      "outputs": [
        {
          "output_type": "stream",
          "name": "stdout",
          "text": [
            "The original model had a total cost of 2808.99\n"
          ]
        }
      ],
      "source": [
        "# Your code goes here\n",
        "#objective\n",
        "lin_term = gp.quicksum(transp_cost[p,d]*x[p,d] for p in production for d in distribution)\n",
        "qc = m.addVar()\n",
        "constr = m.addConstr(qc == 0.01 *gp.quicksum( (x.sum(p, \"*\") ** 2 for p in production)))\n",
        "#q_term = gp.GenExpr(0.01 * x.sum('*', p) * x.sum('*', p) for p in production)\n",
        "m.setObjective(lin_term + qc, GRB.MINIMIZE)\n",
        "\n",
        "m.optimize()\n",
        "\n",
        "x_values = pd.Series(m.getAttr('X', x), name = \"shipment\", index = transp_cost.index)\n",
        "sol = pd.concat([transp_cost, x_values], axis=1)\n",
        "\n",
        "print(f\"The original model had a total cost of {round(m.ObjVal,2)}\")"
      ]
    },
    {
      "cell_type": "markdown",
      "metadata": {
        "id": "lc-cH9JiFSXn"
      },
      "source": [
        "### Nonlinear expression 1\n",
        "\n",
        "The widgets will now be shipped using hyper-efficient vehicles. The cost to ship $x_{ij}$ widgets from production facility $i$ to distribution center $j$ is now equal to the corresponding transportation cost times $\\log(1 + x_{ij})$. Modify the objective function to be equal to this new transportation cost. Some code to get you started:\n",
        "\n",
        "```python\n",
        "prod_cost = m.addVar(name='prod_cost')\n",
        "m.addConstr(prod_cost ==..., name='set_prod_cost')\n",
        "m.setObjective(prod_cost, GRB.MINIMIZE)\n",
        "```\n",
        "Again, resolve the model and see how the cost has changed."
      ]
    },
    {
      "cell_type": "code",
      "execution_count": null,
      "metadata": {
        "id": "e_yK0txfFSXn"
      },
      "outputs": [],
      "source": [
        "# Your code goes here\n",
        "\n",
        "nl_term = gp.nlfunc.log\n",
        "\n",
        "m.setObjective(nl_term, GRB.MINIMIZE)\n",
        "\n",
        "m.optimize()\n",
        "\n",
        "x_values = pd.Series(m.getAttr('X', x), name = \"shipment\", index = transp_cost.index)\n",
        "sol = pd.concat([transp_cost, x_values], axis=1)\n",
        "\n",
        "print(f\"The original model had a total cost of {round(m.ObjVal,2)}\")"
      ]
    },
    {
      "cell_type": "markdown",
      "metadata": {
        "id": "ikpGGuiRFSXn"
      },
      "source": [
        "### Nonlinear expression 2\n",
        "\n",
        "A very strange company rule stipulates that the following mathematical relationship must hold:\n",
        "\n",
        "$ \\log\\Large(\\frac{4 \\cdot x_{\\textrm{Baltimore,Indianapolis}}}{\\sum_d x_{\\textrm{Baltimore},d}})\\normalsize \\geq 0$\n",
        "\n",
        "Add this constraint to the model using a nonlinear expression.\n",
        "\n",
        "Hint: Start by adding a non-negative slack variable $s$ and writing the constraint as $s = \\log\\Large(\\frac{4 \\cdot x_{\\textrm{Baltimore,Indianapolis}}}{\\sum_d x_{\\textrm{Baltimore},d}})$\n",
        "\n",
        "Solve the model and see how the cost has changed."
      ]
    },
    {
      "cell_type": "code",
      "execution_count": null,
      "metadata": {
        "id": "5jTWUA4LFSXn"
      },
      "outputs": [],
      "source": [
        "# Your code goes here\n",
        "s =\n",
        "NL2 = m.addConstr(    ???       )"
      ]
    },
    {
      "cell_type": "markdown",
      "metadata": {
        "id": "8xHFtZFaFSXn"
      },
      "source": [
        " ### Linearizing a nonlinear expression\n",
        "\n",
        "Wait a minute...is the nonlinear constraint we just added unnecessarily complicated? Rewrite the nonlinear constraint using only linear expressions. Describe the purpose of the constraint in words.\n",
        "\n",
        "Solve the model again and inspect the solution. Verify by inspection that it satisfies this newly added constraint."
      ]
    },
    {
      "cell_type": "code",
      "execution_count": null,
      "metadata": {
        "id": "pbGPz1faFSXn"
      },
      "outputs": [],
      "source": [
        "# First, remove the complicated form of the constraint\n",
        "m.remove(NL2)\n",
        "# Your code goes here"
      ]
    }
  ],
  "metadata": {
    "kernelspec": {
      "display_name": "Python 3 (ipykernel)",
      "language": "python",
      "name": "python3"
    },
    "language_info": {
      "codemirror_mode": {
        "name": "ipython",
        "version": 3
      },
      "file_extension": ".py",
      "mimetype": "text/x-python",
      "name": "python",
      "nbconvert_exporter": "python",
      "pygments_lexer": "ipython3",
      "version": "3.12.7"
    },
    "colab": {
      "provenance": []
    }
  },
  "nbformat": 4,
  "nbformat_minor": 0
}